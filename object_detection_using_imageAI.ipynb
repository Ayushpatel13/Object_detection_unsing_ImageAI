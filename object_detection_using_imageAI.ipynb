{
 "cells": [
  {
   "cell_type": "code",
   "execution_count": null,
   "metadata": {},
   "outputs": [],
   "source": [
    "import imageai\n",
    "from imageai.Detection import ObjectDetection\n",
    "detector=ObjectDetection()\n",
    "\n",
    "input_path=\"input/city_street.jpg\"\n",
    "model_path='models/yolo-tiny.h5'\n",
    "output_path=\"output/city_street_output.jpg\"\n",
    "\n",
    "detector.setModelTypeAsTinyYOLOv3()\n",
    "detector.setModelPath(model_path)\n",
    "detector.loadModel()\n",
    "\n",
    "detection=detector.detectObjectsFromImage(input_image=input_path,\n",
    "                                output_image_path=output_path)\n",
    "for eachItem in detection:\n",
    "    print(eachItem['name'],\":\",eachItem[\"percentage_probability\"])"
   ]
  }
 ],
 "metadata": {
  "kernelspec": {
   "display_name": "Python 3",
   "language": "python",
   "name": "python3"
  },
  "language_info": {
   "codemirror_mode": {
    "name": "ipython",
    "version": 3
   },
   "file_extension": ".py",
   "mimetype": "text/x-python",
   "name": "python",
   "nbconvert_exporter": "python",
   "pygments_lexer": "ipython3",
   "version": "3.7.6"
  }
 },
 "nbformat": 4,
 "nbformat_minor": 4
}
